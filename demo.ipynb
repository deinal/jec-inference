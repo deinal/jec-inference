{
 "cells": [
  {
   "cell_type": "code",
   "execution_count": null,
   "id": "d63678f4-4f73-400f-884a-3ddc816922d8",
   "metadata": {},
   "outputs": [],
   "source": [
    "from IPython.display import clear_output\n",
    "from tqdm import tqdm\n",
    "import matplotlib.pyplot as plt\n",
    "import numpy as np\n",
    "import awkward as ak\n",
    "import uproot"
   ]
  },
  {
   "cell_type": "code",
   "execution_count": null,
   "id": "6198af35-2fee-40a2-9996-aaf870233d7e",
   "metadata": {},
   "outputs": [],
   "source": [
    "import s3fs\n",
    "\n",
    "s3 = s3fs.core.S3FileSystem(anon=True, client_kwargs={'endpoint_url': 'https://s3.cern.ch'})"
   ]
  },
  {
   "cell_type": "code",
   "execution_count": null,
   "id": "64b260b3-5104-41f6-85b6-d46ecbc06a6f",
   "metadata": {},
   "outputs": [],
   "source": [
    "flist = s3.glob('s3://jec-data/test/120*.root')"
   ]
  },
  {
   "cell_type": "code",
   "execution_count": null,
   "id": "97fb00a6-51db-440b-a6e6-500a8ba7b66f",
   "metadata": {},
   "outputs": [],
   "source": [
    "from utils.config import DataConfig\n",
    "from utils.fileio import read_files\n",
    "from utils.preprocess import build_new_variables, finalize_inputs\n",
    "\n",
    "def get_data(data_config_file):\n",
    "    data_config = DataConfig.load(data_config_file)\n",
    "    table = read_files(flist, data_config.load_branches, s3)\n",
    "    # define new variables\n",
    "    build_new_variables(table, data_config.var_funcs)\n",
    "    # perform input variable standardization, clipping, padding and stacking\n",
    "    finalize_inputs(table, data_config)\n",
    "    \n",
    "    input_data = {key: table[f'_{key}'] for key in data_config.inputs.keys()}\n",
    "    \n",
    "    observers = ak.to_pandas({k: table[k] for k in data_config.observers})\n",
    "    \n",
    "    return input_data, observers"
   ]
  },
  {
   "cell_type": "code",
   "execution_count": null,
   "id": "79f96420-08e1-4249-857f-1324b367703d",
   "metadata": {},
   "outputs": [],
   "source": [
    "pfn_input_data, observers = get_data('https://raw.githubusercontent.com/deinal/weaver/dev/jet-energy-corrections/data/jec_pfn.yaml')\n",
    "for key in pfn_input_data:\n",
    "    print(key, pfn_input_data[key].shape)"
   ]
  },
  {
   "cell_type": "code",
   "execution_count": null,
   "id": "abbb8103-beee-4004-93b8-0cb7c68d651f",
   "metadata": {},
   "outputs": [],
   "source": [
    "particlenet_input_data, _ = get_data('https://raw.githubusercontent.com/deinal/weaver/dev/jet-energy-corrections/data/jec_particle_net.yaml')\n",
    "for key in particlenet_input_data:\n",
    "    print(key, particlenet_input_data[key].shape)"
   ]
  },
  {
   "cell_type": "code",
   "execution_count": null,
   "id": "72c01073-08b9-4e00-b2d9-b906d9361d93",
   "metadata": {},
   "outputs": [],
   "source": [
    "observers.head()"
   ]
  },
  {
   "cell_type": "code",
   "execution_count": null,
   "id": "103fd33f-e2b0-4b80-831b-fe5838789d90",
   "metadata": {},
   "outputs": [],
   "source": [
    "data_len = observers.shape[0]\n",
    "batch_size = 100"
   ]
  },
  {
   "cell_type": "code",
   "execution_count": null,
   "id": "463616e9-100d-4158-92fa-e18466665e88",
   "metadata": {},
   "outputs": [],
   "source": [
    "def infer(triton_client, inputs):\n",
    "    triton_inputs = []\n",
    "    for i, key in enumerate(inputs.keys()):\n",
    "        triton_inputs.append(httpclient.InferInput(name=key, shape=inputs[key].shape, datatype=\"FP32\"))\n",
    "        triton_inputs[i].set_data_from_numpy(inputs[key])\n",
    "\n",
    "    triton_outputs = [httpclient.InferRequestedOutput(name='output')]\n",
    "\n",
    "    results = triton_client.infer(\n",
    "        model_name='optimal',\n",
    "        inputs=triton_inputs,\n",
    "        outputs=triton_outputs\n",
    "    )\n",
    "    return results"
   ]
  },
  {
   "cell_type": "markdown",
   "id": "dbe3c587-6249-4ad8-86ff-4f5e5d1c4a57",
   "metadata": {},
   "source": [
    "### Read data"
   ]
  },
  {
   "cell_type": "code",
   "execution_count": 13,
   "id": "ed902232-16d6-4efd-96ec-b8f8eb6be489",
   "metadata": {},
   "outputs": [],
   "source": [
    "with s3.open('s3://jec-data/test/120.root') as f:\n",
    "    jets = uproot.open(f)['Jets']\n",
    "    jets = jets.arrays(['pt', 'pt_gen', 'ne_eta', 'ne_phi', 'ne_pt', 'ch_eta', 'ch_phi', 'ch_pt', 'sv_eta', 'sv_phi', 'sv_pt'])"
   ]
  },
  {
   "cell_type": "markdown",
   "id": "813cd7d0-b996-408f-8f18-d92ae3a3284b",
   "metadata": {},
   "source": [
    "### Set up client"
   ]
  },
  {
   "cell_type": "code",
   "execution_count": 14,
   "id": "70a932b8-c84b-46ae-b65b-0c5a6b47e483",
   "metadata": {},
   "outputs": [],
   "source": [
    "import tritonclient.http as httpclient\n",
    "\n",
    "particlenet_triton_client = httpclient.InferenceServerClient(\n",
    "    verbose=False,\n",
    "    url='particle-net-regressor-25a03c.dholmber.svc.cluster.local'\n",
    ")"
   ]
  },
  {
   "cell_type": "markdown",
   "id": "5863006f-fa23-40c1-8090-cd2496f966e0",
   "metadata": {},
   "source": [
    "### Request predictions"
   ]
  },
  {
   "cell_type": "code",
   "execution_count": null,
   "id": "2f820c91-873e-4dd9-90f3-3c9bddafd2b5",
   "metadata": {},
   "outputs": [
    {
     "data": {
      "image/png": "[encoded data removed]",
      "text/plain": [
       "<Figure size 432x432 with 1 Axes>"
      ]
     },
     "metadata": {},
     "output_type": "display_data"
    }
   ],
   "source": [
    "%%capture --no-display\n",
    "\n",
    "for i in range(data_len):\n",
    "    clear_output(wait=True)\n",
    "    \n",
    "    jet = jets[i]\n",
    "    \n",
    "    inputs = {}\n",
    "    for key in particlenet_input_data:\n",
    "        inputs[key] = particlenet_input_data[key][i:i+1]\n",
    "\n",
    "    prediction = infer(particlenet_triton_client, inputs).as_numpy(name='output').squeeze()\n",
    "    corrected_pt = np.exp(prediction) * jet.pt\n",
    "    \n",
    "    fig = plt.figure(figsize=(6, 6))\n",
    "    ax = fig.add_subplot()\n",
    "\n",
    "    al = 7\n",
    "    arrowprops=dict(\n",
    "        arrowstyle='fancy',\n",
    "        mutation_scale=20,\n",
    "        color='k'\n",
    "    )\n",
    "    kwargs = dict(\n",
    "      xycoords='axes fraction',\n",
    "      textcoords='offset points',\n",
    "      arrowprops=arrowprops,\n",
    "    )\n",
    "\n",
    "    ax.annotate(\"\", (1.01, -0.0), xytext=(-al, 0.0), **kwargs) # bottom spine arrow\n",
    "    ax.annotate(\"\", (0.0, 1.01), xytext=(0.0, -al), **kwargs) # left spin arrow\n",
    "\n",
    "    for side in ['top', 'right']:\n",
    "        ax.spines[side].set_visible(False)\n",
    "\n",
    "    ax.yaxis.tick_left()\n",
    "    ax.xaxis.tick_bottom()\n",
    "\n",
    "    ax.scatter(jet.ch_eta, jet.ch_phi, s=2*jet.ch_pt, alpha=1.0, label='Charged particles')\n",
    "    ax.scatter(jet.ne_eta, jet.ne_phi, s=2*jet.ne_pt, alpha=0.9, label='Neutral particles')\n",
    "    ax.scatter(jet.sv_eta, jet.sv_phi, s=2*jet.sv_pt, alpha=0.8, label='Secondary vertices')\n",
    "    ax.set_xlabel('$\\eta$', fontsize=20)\n",
    "    ax.set_ylabel('$\\phi$', fontsize=20)\n",
    "    \n",
    "    ax.set_title(f'ParticleNet $p_T$ = {corrected_pt:.2f} vs True $p_T = {jet.pt_gen:.2f}$\\n', fontsize=16)\n",
    "    \n",
    "    for axis in ['top','bottom','left','right']:\n",
    "        ax.spines[axis].set_linewidth(1.5)\n",
    "    \n",
    "    ax.set_xticks([])\n",
    "    ax.set_yticks([])\n",
    "    \n",
    "    plt.pause(1)"
   ]
  },
  {
   "cell_type": "code",
   "execution_count": null,
   "id": "ca1c3587-cc52-4b72-918c-c387ecfb807d",
   "metadata": {},
   "outputs": [],
   "source": []
  }
 ],
 "metadata": {
  "kernelspec": {
   "display_name": "Python 3",
   "language": "python",
   "name": "python3"
  },
  "language_info": {
   "codemirror_mode": {
    "name": "ipython",
    "version": 3
   },
   "file_extension": ".py",
   "mimetype": "text/x-python",
   "name": "python",
   "nbconvert_exporter": "python",
   "pygments_lexer": "ipython3",
   "version": "3.8.10"
  }
 },
 "nbformat": 4,
 "nbformat_minor": 5
}
