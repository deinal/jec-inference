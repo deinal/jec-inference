{
 "cells": [
  {
   "cell_type": "code",
   "execution_count": 1,
   "id": "f31911ff-b587-4eab-81a7-d37e341e3ecc",
   "metadata": {},
   "outputs": [],
   "source": [
    "#!pip install -r requirements.txt\n",
    "\n",
    "import os\n",
    "os.environ['PATH'] += os.pathsep + '/home/jovyan/.local/bin'"
   ]
  },
  {
   "cell_type": "code",
   "execution_count": 2,
   "id": "3b1c4b5b-a0d5-4b3f-8a0d-b835aec6d423",
   "metadata": {},
   "outputs": [],
   "source": [
    "from tqdm import tqdm\n",
    "import numpy as np\n",
    "import pandas as pd\n",
    "import awkward as ak\n",
    "import matplotlib.pyplot as plt\n",
    "import itertools\n",
    "import random\n",
    "import json\n",
    "import sys"
   ]
  },
  {
   "cell_type": "markdown",
   "id": "49360499-8cb2-435b-bd68-8b3a6b70ca48",
   "metadata": {},
   "source": [
    "# Load data"
   ]
  },
  {
   "cell_type": "code",
   "execution_count": 3,
   "id": "d6c388c7-bf2f-4f1f-bf3a-d0988297b428",
   "metadata": {},
   "outputs": [],
   "source": [
    "import s3fs\n",
    "\n",
    "s3 = s3fs.core.S3FileSystem(anon=True, client_kwargs={'endpoint_url': 'https://s3.cern.ch'})"
   ]
  },
  {
   "cell_type": "code",
   "execution_count": 4,
   "id": "591a7f40-ab36-47b5-a360-90b415d85ffe",
   "metadata": {},
   "outputs": [],
   "source": [
    "flist = s3.glob('s3://jec-data/open-small/100*.root')"
   ]
  },
  {
   "cell_type": "code",
   "execution_count": 5,
   "id": "8f4702f8-daad-405e-9a07-dcd64b137ab4",
   "metadata": {},
   "outputs": [],
   "source": [
    "from utils.config import DataConfig\n",
    "from utils.fileio import read_files\n",
    "from utils.preprocess import build_new_variables, finalize_inputs\n",
    "\n",
    "def get_data(data_config_file):\n",
    "    data_config = DataConfig.load(data_config_file)\n",
    "    table = read_files(flist, data_config.load_branches, s3)\n",
    "    # define new variables\n",
    "    build_new_variables(table, data_config.var_funcs)\n",
    "    # perform input variable standardization, clipping, padding and stacking\n",
    "    finalize_inputs(table, data_config)\n",
    "    \n",
    "    input_data = {key: table[f'_{key}'] for key in data_config.inputs.keys()}\n",
    "    \n",
    "    observers = ak.to_dataframe({k: table[k] for k in data_config.observers})\n",
    "    \n",
    "    return input_data, observers"
   ]
  },
  {
   "cell_type": "code",
   "execution_count": 6,
   "id": "4983bb3d-70b2-4cd7-b8d0-d8041199c228",
   "metadata": {},
   "outputs": [
    {
     "name": "stderr",
     "output_type": "stream",
     "text": [
      "/home/jovyan/.local/lib/python3.8/site-packages/awkward/_backends.py:57: RuntimeWarning: divide by zero encountered in log\n",
      "  return getattr(ufunc, method)(*args, **kwargs)\n"
     ]
    },
    {
     "name": "stdout",
     "output_type": "stream",
     "text": [
      "pf_features (8990, 6, 100)\n",
      "pf_mask (8990, 1, 100)\n",
      "jet_features (8990, 8)\n"
     ]
    }
   ],
   "source": [
    "pfn_input_data, observers = get_data('https://raw.githubusercontent.com/deinal/weaver/dev/jet-energy-corrections/data/jec_pfn_open.yaml')\n",
    "for key in pfn_input_data:\n",
    "    print(key, pfn_input_data[key].shape)"
   ]
  },
  {
   "cell_type": "code",
   "execution_count": 7,
   "id": "35135392-932b-4eaa-b949-6b818a69979b",
   "metadata": {},
   "outputs": [
    {
     "name": "stderr",
     "output_type": "stream",
     "text": [
      "/home/jovyan/.local/lib/python3.8/site-packages/awkward/_backends.py:57: RuntimeWarning: divide by zero encountered in log\n",
      "  return getattr(ufunc, method)(*args, **kwargs)\n"
     ]
    },
    {
     "name": "stdout",
     "output_type": "stream",
     "text": [
      "pf_points (8990, 2, 100)\n",
      "pf_features (8990, 6, 100)\n",
      "pf_mask (8990, 1, 100)\n",
      "jet_features (8990, 8)\n"
     ]
    }
   ],
   "source": [
    "particlenet_input_data, _ = get_data('https://raw.githubusercontent.com/deinal/weaver/dev/jet-energy-corrections/data/jec_particle_net_open.yaml')\n",
    "for key in particlenet_input_data:\n",
    "    print(key, particlenet_input_data[key].shape)"
   ]
  },
  {
   "cell_type": "code",
   "execution_count": 8,
   "id": "6f1f4d57-7d92-4e31-b100-9f0c03c4d407",
   "metadata": {},
   "outputs": [
    {
     "data": {
      "text/html": [
       "<div>\n",
       "<style scoped>\n",
       "    .dataframe tbody tr th:only-of-type {\n",
       "        vertical-align: middle;\n",
       "    }\n",
       "\n",
       "    .dataframe tbody tr th {\n",
       "        vertical-align: top;\n",
       "    }\n",
       "\n",
       "    .dataframe thead th {\n",
       "        text-align: right;\n",
       "    }\n",
       "</style>\n",
       "<table border=\"1\" class=\"dataframe\">\n",
       "  <thead>\n",
       "    <tr style=\"text-align: right;\">\n",
       "      <th></th>\n",
       "      <th>jetPt</th>\n",
       "      <th>genJetPt</th>\n",
       "      <th>genJetEta</th>\n",
       "      <th>partonFlav</th>\n",
       "      <th>hadronFlav</th>\n",
       "    </tr>\n",
       "    <tr>\n",
       "      <th>entry</th>\n",
       "      <th></th>\n",
       "      <th></th>\n",
       "      <th></th>\n",
       "      <th></th>\n",
       "      <th></th>\n",
       "    </tr>\n",
       "  </thead>\n",
       "  <tbody>\n",
       "    <tr>\n",
       "      <th>0</th>\n",
       "      <td>71.932236</td>\n",
       "      <td>73.155434</td>\n",
       "      <td>-1.344992</td>\n",
       "      <td>3.0</td>\n",
       "      <td>0.0</td>\n",
       "    </tr>\n",
       "    <tr>\n",
       "      <th>1</th>\n",
       "      <td>67.177696</td>\n",
       "      <td>73.371246</td>\n",
       "      <td>-0.401511</td>\n",
       "      <td>21.0</td>\n",
       "      <td>0.0</td>\n",
       "    </tr>\n",
       "    <tr>\n",
       "      <th>2</th>\n",
       "      <td>107.918228</td>\n",
       "      <td>103.446953</td>\n",
       "      <td>1.872291</td>\n",
       "      <td>21.0</td>\n",
       "      <td>0.0</td>\n",
       "    </tr>\n",
       "    <tr>\n",
       "      <th>3</th>\n",
       "      <td>88.393539</td>\n",
       "      <td>78.820610</td>\n",
       "      <td>1.535389</td>\n",
       "      <td>1.0</td>\n",
       "      <td>0.0</td>\n",
       "    </tr>\n",
       "    <tr>\n",
       "      <th>4</th>\n",
       "      <td>30.975452</td>\n",
       "      <td>29.149637</td>\n",
       "      <td>0.525930</td>\n",
       "      <td>21.0</td>\n",
       "      <td>0.0</td>\n",
       "    </tr>\n",
       "  </tbody>\n",
       "</table>\n",
       "</div>"
      ],
      "text/plain": [
       "            jetPt    genJetPt  genJetEta  partonFlav  hadronFlav\n",
       "entry                                                           \n",
       "0       71.932236   73.155434  -1.344992         3.0         0.0\n",
       "1       67.177696   73.371246  -0.401511        21.0         0.0\n",
       "2      107.918228  103.446953   1.872291        21.0         0.0\n",
       "3       88.393539   78.820610   1.535389         1.0         0.0\n",
       "4       30.975452   29.149637   0.525930        21.0         0.0"
      ]
     },
     "execution_count": 8,
     "metadata": {},
     "output_type": "execute_result"
    }
   ],
   "source": [
    "observers.head()"
   ]
  },
  {
   "cell_type": "code",
   "execution_count": 9,
   "id": "9364742f-f850-4b61-8e0e-1e6277b545ee",
   "metadata": {},
   "outputs": [
    {
     "data": {
      "text/html": [
       "<div>\n",
       "<style scoped>\n",
       "    .dataframe tbody tr th:only-of-type {\n",
       "        vertical-align: middle;\n",
       "    }\n",
       "\n",
       "    .dataframe tbody tr th {\n",
       "        vertical-align: top;\n",
       "    }\n",
       "\n",
       "    .dataframe thead th {\n",
       "        text-align: right;\n",
       "    }\n",
       "</style>\n",
       "<table border=\"1\" class=\"dataframe\">\n",
       "  <thead>\n",
       "    <tr style=\"text-align: right;\">\n",
       "      <th></th>\n",
       "      <th>pt</th>\n",
       "      <th>pt_gen</th>\n",
       "      <th>eta_gen</th>\n",
       "      <th>flavour</th>\n",
       "    </tr>\n",
       "    <tr>\n",
       "      <th>entry</th>\n",
       "      <th></th>\n",
       "      <th></th>\n",
       "      <th></th>\n",
       "      <th></th>\n",
       "    </tr>\n",
       "  </thead>\n",
       "  <tbody>\n",
       "    <tr>\n",
       "      <th>0</th>\n",
       "      <td>71.932236</td>\n",
       "      <td>73.155434</td>\n",
       "      <td>-1.344992</td>\n",
       "      <td>3.0</td>\n",
       "    </tr>\n",
       "    <tr>\n",
       "      <th>1</th>\n",
       "      <td>67.177696</td>\n",
       "      <td>73.371246</td>\n",
       "      <td>-0.401511</td>\n",
       "      <td>21.0</td>\n",
       "    </tr>\n",
       "    <tr>\n",
       "      <th>2</th>\n",
       "      <td>107.918228</td>\n",
       "      <td>103.446953</td>\n",
       "      <td>1.872291</td>\n",
       "      <td>21.0</td>\n",
       "    </tr>\n",
       "    <tr>\n",
       "      <th>3</th>\n",
       "      <td>88.393539</td>\n",
       "      <td>78.820610</td>\n",
       "      <td>1.535389</td>\n",
       "      <td>1.0</td>\n",
       "    </tr>\n",
       "    <tr>\n",
       "      <th>4</th>\n",
       "      <td>30.975452</td>\n",
       "      <td>29.149637</td>\n",
       "      <td>0.525930</td>\n",
       "      <td>21.0</td>\n",
       "    </tr>\n",
       "  </tbody>\n",
       "</table>\n",
       "</div>"
      ],
      "text/plain": [
       "               pt      pt_gen   eta_gen  flavour\n",
       "entry                                           \n",
       "0       71.932236   73.155434 -1.344992      3.0\n",
       "1       67.177696   73.371246 -0.401511     21.0\n",
       "2      107.918228  103.446953  1.872291     21.0\n",
       "3       88.393539   78.820610  1.535389      1.0\n",
       "4       30.975452   29.149637  0.525930     21.0"
      ]
     },
     "execution_count": 9,
     "metadata": {},
     "output_type": "execute_result"
    }
   ],
   "source": [
    "df = observers.copy()\n",
    "df.columns = ['pt', 'pt_gen', 'eta_gen', 'parton_flavor', 'hadron_flavor']\n",
    "df['flavour'] = df.hadron_flavor.where(df.hadron_flavor != 0, other=np.abs(df.parton_flavor))\n",
    "df = df.drop(columns=['parton_flavor', 'hadron_flavor'])\n",
    "df.head()"
   ]
  },
  {
   "cell_type": "code",
   "execution_count": 10,
   "id": "1c4c709f-f89c-4341-aeb4-0e33b126b602",
   "metadata": {},
   "outputs": [],
   "source": [
    "data_len = df.shape[0]"
   ]
  },
  {
   "cell_type": "code",
   "execution_count": 11,
   "id": "9c43f5f1-1729-46e3-a622-0bdaa02c4cbe",
   "metadata": {},
   "outputs": [],
   "source": [
    "outdir = 'figs/data'\n",
    "\n",
    "for ext in ['png', 'pdf']:\n",
    "    os.makedirs(os.path.join(outdir, ext), exist_ok=True)"
   ]
  },
  {
   "cell_type": "code",
   "execution_count": 12,
   "id": "c868533b-85a3-444c-a24c-97f195d03ead",
   "metadata": {},
   "outputs": [
    {
     "data": {
      "image/png": "[encoded data removed]",
      "text/plain": [
       "<Figure size 576x468 with 2 Axes>"
      ]
     },
     "metadata": {
      "needs_background": "light"
     },
     "output_type": "display_data"
    },
    {
     "data": {
      "text/plain": [
       "<Figure size 432x288 with 0 Axes>"
      ]
     },
     "metadata": {},
     "output_type": "display_data"
    }
   ],
   "source": [
    "from utils.visualize_data import plot_spectrum\n",
    "\n",
    "plot_spectrum(df, outdir)"
   ]
  },
  {
   "cell_type": "code",
   "execution_count": 13,
   "id": "3c2a48f5-659b-44cc-ab5e-54f308a219b0",
   "metadata": {},
   "outputs": [],
   "source": [
    "filtered = df[(df.pt_gen > 20) & (np.abs(df.eta_gen) < 2.5)]"
   ]
  },
  {
   "cell_type": "code",
   "execution_count": 14,
   "id": "124ece40-f8e5-4d97-b1aa-2c9c55a53325",
   "metadata": {},
   "outputs": [
    {
     "data": {
      "image/png": "[encoded data removed]",
      "text/plain": [
       "<Figure size 432x288 with 1 Axes>"
      ]
     },
     "metadata": {
      "needs_background": "light"
     },
     "output_type": "display_data"
    }
   ],
   "source": [
    "plt.hist(filtered.pt_gen, bins=50)\n",
    "plt.xlabel('$p_T^\\mathrm{gen}$')\n",
    "plt.ylabel('Fraction of jets/bin')\n",
    "plt.yscale('log')\n",
    "plt.show()"
   ]
  },
  {
   "cell_type": "code",
   "execution_count": 15,
   "id": "3c7f9d06-ac27-4e57-8bfb-1bbbac6cdec3",
   "metadata": {},
   "outputs": [
    {
     "data": {
      "image/png": "[encoded data removed]",
      "text/plain": [
       "<Figure size 432x288 with 1 Axes>"
      ]
     },
     "metadata": {
      "needs_background": "light"
     },
     "output_type": "display_data"
    },
    {
     "data": {
      "text/plain": [
       "<Figure size 432x288 with 0 Axes>"
      ]
     },
     "metadata": {},
     "output_type": "display_data"
    }
   ],
   "source": [
    "from utils.visualize_data import plot_target\n",
    "\n",
    "plot_target(filtered, outdir)"
   ]
  },
  {
   "cell_type": "markdown",
   "id": "ab485b75-5240-4dee-b36d-5830c50a8a56",
   "metadata": {},
   "source": [
    "# Triton inference"
   ]
  },
  {
   "cell_type": "markdown",
   "id": "eb2ea0d6-02a2-4412-8cc0-9a4ad60c0e65",
   "metadata": {},
   "source": [
    "### Set up client"
   ]
  },
  {
   "cell_type": "code",
   "execution_count": 16,
   "id": "d00d5378-c427-437c-a0e4-fce05c41417c",
   "metadata": {},
   "outputs": [],
   "source": [
    "import tritonclient.http as httpclient"
   ]
  },
  {
   "cell_type": "code",
   "execution_count": 17,
   "id": "8c577f74-44f2-45d2-aaa1-ac50899f52b5",
   "metadata": {},
   "outputs": [],
   "source": [
    "pfn_triton_client = httpclient.InferenceServerClient(url='pfn-regressor-open-92b681.dholmber.svc.cluster.local', verbose=False)\n",
    "particlenet_triton_client = httpclient.InferenceServerClient(url='particle-net-regressor-open-b725de.dholmber.svc.cluster.local', verbose=False)"
   ]
  },
  {
   "cell_type": "code",
   "execution_count": 18,
   "id": "46e60545-2853-4b06-874f-113f4c7e6f74",
   "metadata": {},
   "outputs": [],
   "source": [
    "def infer(triton_client, inputs):\n",
    "    triton_inputs = []\n",
    "    for i, key in enumerate(inputs.keys()):\n",
    "        triton_inputs.append(httpclient.InferInput(name=key, shape=inputs[key].shape, datatype=\"FP32\"))\n",
    "        triton_inputs[i].set_data_from_numpy(inputs[key])\n",
    "\n",
    "    triton_outputs = [httpclient.InferRequestedOutput(name='output')]\n",
    "\n",
    "    results = triton_client.infer(\n",
    "        model_name='optimal',\n",
    "        inputs=triton_inputs,\n",
    "        outputs=triton_outputs\n",
    "    )\n",
    "    return results"
   ]
  },
  {
   "cell_type": "markdown",
   "id": "420b661a-4800-45d7-8ffc-74943afb4646",
   "metadata": {},
   "source": [
    "### Initialize inference experiment parameters"
   ]
  },
  {
   "cell_type": "code",
   "execution_count": 19,
   "id": "1e2a6225-a73f-4a43-bfa1-8dd4d8302791",
   "metadata": {},
   "outputs": [],
   "source": [
    "num_repeats = 10\n",
    "batch_sizes = range(10, 110, 10)"
   ]
  },
  {
   "cell_type": "markdown",
   "id": "fd88908b-64a2-4d56-aff4-4d95aeca6bec",
   "metadata": {},
   "source": [
    "### Gather statistics"
   ]
  },
  {
   "cell_type": "code",
   "execution_count": 20,
   "id": "ba0c3767-73b1-4790-a086-b3b626474ea4",
   "metadata": {},
   "outputs": [],
   "source": [
    "def gather_statistics(triton_client, input_data, num_repeats, batch_sizes):\n",
    "    batch_stats = {batch_size: {'inference_time': [], 'inference_count': 0, 'total_inference_time': 0} for batch_size in batch_sizes}\n",
    "    \n",
    "    statistics = triton_client.get_inference_statistics(model_name='optimal')\n",
    "    initial_batch_stats = statistics['model_stats'][0]['batch_stats']\n",
    "\n",
    "    for initial_stat in initial_batch_stats:\n",
    "        batch_size = initial_stat['batch_size']\n",
    "        if batch_size in batch_sizes:\n",
    "            initial_inference = initial_stat['compute_infer']\n",
    "            batch_stats[batch_size]['total_inference_time'] = initial_inference['ns']\n",
    "\n",
    "    for batch_size in tqdm(batch_sizes):\n",
    "        while batch_stats[batch_size]['inference_count'] < num_repeats:\n",
    "            indices = random.sample(range(data_len), batch_size)\n",
    "            inputs = {}\n",
    "            for key in input_data:\n",
    "                inputs[key] = input_data[key][indices]\n",
    "\n",
    "            results = infer(triton_client, inputs)\n",
    "\n",
    "            statistics = triton_client.get_inference_statistics(model_name='optimal')\n",
    "            all_current_batch_stats = statistics['model_stats'][0]['batch_stats']\n",
    "            for stat in all_current_batch_stats:\n",
    "                if stat['batch_size'] == batch_size:\n",
    "                    current_batch = stat\n",
    "                    break\n",
    "\n",
    "            last_inference_time = current_batch['compute_infer']['ns'] - batch_stats[batch_size]['total_inference_time']\n",
    "\n",
    "            batch_stats[batch_size]['inference_time'].append(last_inference_time / batch_size)\n",
    "            batch_stats[batch_size]['total_inference_time'] = current_batch['compute_infer']['ns']\n",
    "            batch_stats[batch_size]['inference_count'] += 1\n",
    "    \n",
    "    return batch_stats"
   ]
  },
  {
   "cell_type": "code",
   "execution_count": 21,
   "id": "cb901390-1042-4b13-a31c-fd708b67b0dd",
   "metadata": {},
   "outputs": [
    {
     "name": "stderr",
     "output_type": "stream",
     "text": [
      "100%|██████████| 10/10 [00:08<00:00,  1.14it/s]\n"
     ]
    }
   ],
   "source": [
    "pfn_batch_stats = gather_statistics(pfn_triton_client, pfn_input_data, num_repeats, batch_sizes)"
   ]
  },
  {
   "cell_type": "code",
   "execution_count": null,
   "id": "45de6071-1973-4d7a-87db-d07edf7d7f93",
   "metadata": {},
   "outputs": [
    {
     "name": "stderr",
     "output_type": "stream",
     "text": [
      " 90%|█████████ | 9/10 [00:06<00:00,  1.15it/s]"
     ]
    }
   ],
   "source": [
    "particle_net_batch_stats = gather_statistics(particlenet_triton_client, particlenet_input_data, num_repeats, batch_sizes)"
   ]
  },
  {
   "cell_type": "markdown",
   "id": "1ee59d9d-fe26-4b3d-9074-92d422c7b761",
   "metadata": {},
   "source": [
    "### Calculate metrics"
   ]
  },
  {
   "cell_type": "code",
   "execution_count": null,
   "id": "a45416a4-31f6-4bff-9109-bae19430fe87",
   "metadata": {},
   "outputs": [],
   "source": [
    "def calculate_metrics(batch_stats, batch_sizes):\n",
    "    y = []\n",
    "    yerr = []\n",
    "    for batch_size in batch_sizes:\n",
    "        batch_inference_time = [t / 1000 for t in batch_stats[batch_size]['inference_time']]\n",
    "\n",
    "        summed_time = sum(batch_inference_time)\n",
    "        count = batch_stats[batch_size]['inference_count']\n",
    "        if not count:\n",
    "            continue\n",
    "\n",
    "        mean_time = summed_time / count\n",
    "        y.append(mean_time)\n",
    "\n",
    "        sem = np.std(batch_inference_time, ddof=1) / np.sqrt(np.size(batch_inference_time))\n",
    "        yerr.append(sem)\n",
    "    \n",
    "    return y, yerr"
   ]
  },
  {
   "cell_type": "code",
   "execution_count": null,
   "id": "e67bc42b-276a-4c08-b237-4a1ac67776c7",
   "metadata": {},
   "outputs": [],
   "source": [
    "pfn_y, pfn_yerr = calculate_metrics(pfn_batch_stats, batch_sizes)"
   ]
  },
  {
   "cell_type": "code",
   "execution_count": null,
   "id": "2fd10eb7-0d59-4942-941f-280c3fcd6e4b",
   "metadata": {},
   "outputs": [],
   "source": [
    "particlenet_y, particlenet_yerr = calculate_metrics(particle_net_batch_stats, batch_sizes)"
   ]
  },
  {
   "cell_type": "markdown",
   "id": "28f5179d-a7eb-468b-b07a-2eb7ebb15048",
   "metadata": {},
   "source": [
    "### Plot inference time"
   ]
  },
  {
   "cell_type": "code",
   "execution_count": null,
   "id": "895d138c-51bc-4c56-9fcc-3448b77bdd33",
   "metadata": {},
   "outputs": [],
   "source": [
    "plt.errorbar(x=batch_sizes, y=pfn_y, yerr=pfn_yerr, label='PFN')\n",
    "plt.errorbar(x=batch_sizes, y=particlenet_y, yerr=particlenet_yerr, label='ParticleNet')\n",
    "plt.xlabel('Batch size', fontsize=12)\n",
    "plt.ylabel('Inference time [$\\mu s$]', fontsize=12)\n",
    "plt.legend()\n",
    "plt.savefig('figs/inference_time.png')\n",
    "plt.show()"
   ]
  },
  {
   "cell_type": "markdown",
   "id": "21c5dc32-8713-4a0a-bd91-2641f852da2e",
   "metadata": {},
   "source": [
    "# Physics results"
   ]
  },
  {
   "cell_type": "code",
   "execution_count": null,
   "id": "5c8c4dcd-ecb7-43c8-8ac2-d5da7f23a793",
   "metadata": {},
   "outputs": [],
   "source": [
    "batch_size = 100"
   ]
  },
  {
   "cell_type": "code",
   "execution_count": null,
   "id": "8b7991c4-4f92-4f0b-adbf-938d774d3805",
   "metadata": {},
   "outputs": [],
   "source": [
    "def get_predictions(triton_client, input_data):\n",
    "    predictions = []\n",
    "\n",
    "    for i in tqdm(range(0, data_len, batch_size)):\n",
    "        inputs = {}\n",
    "        for key in input_data:\n",
    "            inputs[key] = input_data[key][i:i+batch_size]\n",
    "\n",
    "        results = infer(triton_client, inputs)\n",
    "\n",
    "        predictions.append(results.as_numpy(name='output'))\n",
    "\n",
    "    return np.concatenate(predictions)"
   ]
  },
  {
   "cell_type": "code",
   "execution_count": null,
   "id": "373128a7-8766-440f-b402-ac362706199c",
   "metadata": {},
   "outputs": [],
   "source": [
    "pfn_predictions = get_predictions(pfn_triton_client, pfn_input_data)"
   ]
  },
  {
   "cell_type": "code",
   "execution_count": null,
   "id": "1578340d-469e-418b-b2c4-d3e4e78ef7e8",
   "metadata": {},
   "outputs": [],
   "source": [
    "particlenet_predictions = get_predictions(particlenet_triton_client, particlenet_input_data)"
   ]
  },
  {
   "cell_type": "code",
   "execution_count": null,
   "id": "128c6f6a-992e-43e0-8158-6fa9f7070faf",
   "metadata": {},
   "outputs": [],
   "source": [
    "outdir = 'figs'\n",
    "network_names = ['PFN-r', 'ParticleNet-r']\n",
    "names = ['Standard'] + network_names\n",
    "preds = {'PFN-r': pfn_predictions.squeeze(), 'ParticleNet-r': particlenet_predictions.squeeze()}"
   ]
  },
  {
   "cell_type": "code",
   "execution_count": null,
   "id": "e2a28768-c66f-4e7d-95c9-3600da4305bb",
   "metadata": {},
   "outputs": [],
   "source": [
    "df['Standard'] = df.pt / df.pt_gen\n",
    "for name in network_names:\n",
    "    corrected_pt = np.exp(preds[name]) * df.pt\n",
    "    df[name] = corrected_pt / df.pt_gen\n",
    "\n",
    "binning = np.geomspace(20, 3000, 20)\n",
    "bin_centers = np.sqrt(binning[:-1] * binning[1:])"
   ]
  },
  {
   "cell_type": "code",
   "execution_count": null,
   "id": "bc0792e4-f887-4206-a825-ab74c46273a8",
   "metadata": {},
   "outputs": [],
   "source": [
    "os.makedirs(outdir, exist_ok=True)\n",
    "\n",
    "for subdir in ['distributions', 'flavours', 'response', 'resolution', 'residual']:\n",
    "    for ext in ['png', 'pdf']:\n",
    "        os.makedirs(os.path.join(outdir, subdir, ext), exist_ok=True)"
   ]
  },
  {
   "cell_type": "code",
   "execution_count": null,
   "id": "65397b50-064f-4a75-ba40-a2fa63154470",
   "metadata": {},
   "outputs": [],
   "source": [
    "# del sys.modules[compare_flavours.__module__]\n",
    "# del sys.modules[plot_resolution.__module__]\n",
    "# del sys.modules[plot_median_response.__module__]\n",
    "# del sys.modules[compute_resolution_improvement.__module__]\n",
    "# del sys.modules[to_serializable.__module__]\n",
    "# del sys.modules[plot_distrs.__module__]\n",
    "# del sys.modules[plot_median_residual.__module__]"
   ]
  },
  {
   "cell_type": "code",
   "execution_count": null,
   "id": "28bb5758-974b-484a-aec0-ddf1fac6e80b",
   "metadata": {},
   "outputs": [],
   "source": [
    "%%capture --no-display\n",
    "from utils.plot import compare_flavours\n",
    "\n",
    "compare_flavours(df, names, os.path.join(outdir, 'flavours'))"
   ]
  },
  {
   "cell_type": "code",
   "execution_count": null,
   "id": "67f8c319-80d5-4d65-87f4-d69349e1cb32",
   "metadata": {},
   "outputs": [],
   "source": [
    "from utils.plot import plot_median_response\n",
    "\n",
    "for (ieta, eta_bin), (flavour_label, flavour_ids) in itertools.product(\n",
    "    enumerate([(0, 1.3), (1.3, 2.5)], start=1),\n",
    "    [\n",
    "        ('uds', {1, 2, 3}), ('c', {4}), ('b', {5}), ('g', {21}),\n",
    "        ('all', {0, 1, 2, 3, 4, 5, 21})\n",
    "    ]\n",
    "):\n",
    "    df_bin = df[\n",
    "        (np.abs(df.eta_gen) >= eta_bin[0])\n",
    "        & (np.abs(df.eta_gen) < eta_bin[1])\n",
    "        & df.flavour.isin(flavour_ids)\n",
    "    ]\n",
    "    bins = df_bin.groupby(pd.cut(df_bin.pt_gen, binning))\n",
    "\n",
    "    plot_median_response(\n",
    "        os.path.join(outdir, 'response'),\n",
    "        flavour_label, bins, bin_centers, eta_bin, ieta, names\n",
    "    )"
   ]
  },
  {
   "cell_type": "code",
   "execution_count": null,
   "id": "a480a087-e6da-431b-b93c-72622155e7d6",
   "metadata": {},
   "outputs": [],
   "source": [
    "from utils.plot import plot_resolution, compute_resolution_improvement, to_serializable\n",
    "\n",
    "data = {}\n",
    "for (ieta, eta_bin), (flavour_label, flavour_ids) in itertools.product(\n",
    "    enumerate([(0, 1.3), (1.3, 2.5)], start=1),\n",
    "    [\n",
    "        ('uds', {1, 2, 3}), ('c', {4}), ('b', {5}), ('g', {21}),\n",
    "        ('all', {0, 1, 2, 3, 4, 5, 21})\n",
    "    ]\n",
    "):\n",
    "    df_bin = df[\n",
    "        (np.abs(df.eta_gen) >= eta_bin[0])\n",
    "        & (np.abs(df.eta_gen) < eta_bin[1])\n",
    "        & df.flavour.isin(flavour_ids)\n",
    "    ]\n",
    "    bins = df_bin.groupby(pd.cut(df_bin.pt_gen, binning))\n",
    "\n",
    "    data[f'{flavour_label}_eta{ieta}'] = plot_resolution(\n",
    "        os.path.join(outdir, 'resolution'),\n",
    "        flavour_label, bins, bin_centers, eta_bin, ieta, binning, names\n",
    "    )\n",
    "\n",
    "    for (ipt, pt_bin) in enumerate(\n",
    "            [(30, np.inf), (30, 50), (50, 100), (100, 300), (300, 1000), (1000, np.inf)], start=1\n",
    "        ):\n",
    "        pt_bin = df_bin[\n",
    "            (df_bin.pt_gen >= pt_bin[0])\n",
    "            & (df_bin.pt_gen < pt_bin[1])\n",
    "        ]\n",
    "        data[f'{flavour_label}_eta{ieta}']['improvement'][f'pt{ipt}'] = compute_resolution_improvement(pt_bin, names)\n",
    "\n",
    "with open(os.path.join(outdir, 'resolution', 'data.json'), 'w') as f:\n",
    "    json.dump(data, f, indent='\\t', default=to_serializable)"
   ]
  },
  {
   "cell_type": "code",
   "execution_count": null,
   "id": "ee9577a1-c5b9-4e35-9191-b3ec616c4a10",
   "metadata": {},
   "outputs": [],
   "source": [
    "from utils.plot import plot_distrs\n",
    "\n",
    "plot_distrs(df, names, os.path.join(outdir, 'distributions'))"
   ]
  },
  {
   "cell_type": "code",
   "execution_count": null,
   "id": "fd428f43-e97b-432a-b3a6-386d9cd17ef5",
   "metadata": {},
   "outputs": [],
   "source": [
    "from utils.plot import plot_median_residual\n",
    "\n",
    "for (ieta, eta_bin), flavours in itertools.product(\n",
    "    enumerate([(0, 1.3), (1.3, 2.5)], start=1),\n",
    "    itertools.combinations([('uds', {1, 2, 3}), ('c', {4}), ('b', {5}), ('g', {21})], r=2),\n",
    "):\n",
    "    bins = []\n",
    "    for i, flavour_ids in enumerate([flavours[0][1], flavours[1][1]]):\n",
    "        df_bin = df[\n",
    "            (np.abs(df.eta_gen) >= eta_bin[0])\n",
    "            & (np.abs(df.eta_gen) < eta_bin[1])\n",
    "            & df.flavour.isin(flavour_ids)\n",
    "        ]\n",
    "        bins.append(df_bin.groupby(pd.cut(df_bin.pt_gen, binning)))\n",
    "\n",
    "    plot_median_residual(\n",
    "        os.path.join(outdir, 'residual'),\n",
    "        bin_centers, (flavours[0][0], flavours[1][0]), bins, eta_bin, ieta, names\n",
    "    )"
   ]
  }
 ],
 "metadata": {
  "kernelspec": {
   "display_name": "Python 3",
   "language": "python",
   "name": "python3"
  },
  "language_info": {
   "codemirror_mode": {
    "name": "ipython",
    "version": 3
   },
   "file_extension": ".py",
   "mimetype": "text/x-python",
   "name": "python",
   "nbconvert_exporter": "python",
   "pygments_lexer": "ipython3",
   "version": "3.8.10"
  }
 },
 "nbformat": 4,
 "nbformat_minor": 5
}
